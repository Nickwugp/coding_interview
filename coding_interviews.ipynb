{
 "cells": [
  {
   "cell_type": "markdown",
   "metadata": {},
   "source": [
    "## data Structure\n",
    "Data Structure - a specialized format to organize and store data.\n",
    "\n",
    "Main Data Structures in Python:    \n",
    "+ list\n",
    "+ tuple\n",
    "+ set\n",
    "+ dictionary"
   ]
  },
  {
   "cell_type": "code",
   "execution_count": 17,
   "metadata": {
    "ExecuteTime": {
     "end_time": "2019-11-13T06:38:09.284306Z",
     "start_time": "2019-11-13T06:38:09.273311Z"
    },
    "collapsed": true
   },
   "outputs": [
    {
     "name": "stdout",
     "output_type": "stream",
     "text": [
      "list functions: \n",
      "['__repr__', '__hash__', '__getattribute__', '__lt__', '__le__', '__eq__', '__ne__', '__gt__', '__ge__', '__iter__', '__init__', '__len__', '__getitem__', '__setitem__', '__delitem__', '__add__', '__mul__', '__rmul__', '__contains__', '__iadd__', '__imul__', '__new__', '__reversed__', '__sizeof__', 'clear', 'copy', 'append', 'insert', 'extend', 'pop', 'remove', 'index', 'count', 'reverse', 'sort', '__doc__', '__str__', '__setattr__', '__delattr__', '__reduce_ex__', '__reduce__', '__subclasshook__', '__init_subclass__', '__format__', '__dir__', '__class__']\n",
      "tuple functions: \n",
      "['__repr__', '__hash__', '__getattribute__', '__lt__', '__le__', '__eq__', '__ne__', '__gt__', '__ge__', '__iter__', '__len__', '__getitem__', '__add__', '__mul__', '__rmul__', '__contains__', '__new__', '__getnewargs__', 'index', 'count', '__doc__', '__str__', '__setattr__', '__delattr__', '__init__', '__reduce_ex__', '__reduce__', '__subclasshook__', '__init_subclass__', '__format__', '__sizeof__', '__dir__', '__class__']\n",
      "set functions: \n",
      "['__repr__', '__hash__', '__getattribute__', '__lt__', '__le__', '__eq__', '__ne__', '__gt__', '__ge__', '__iter__', '__init__', '__sub__', '__rsub__', '__and__', '__rand__', '__xor__', '__rxor__', '__or__', '__ror__', '__isub__', '__iand__', '__ixor__', '__ior__', '__len__', '__contains__', '__new__', 'add', 'clear', 'copy', 'discard', 'difference', 'difference_update', 'intersection', 'intersection_update', 'isdisjoint', 'issubset', 'issuperset', 'pop', '__reduce__', 'remove', '__sizeof__', 'symmetric_difference', 'symmetric_difference_update', 'union', 'update', '__doc__', '__str__', '__setattr__', '__delattr__', '__reduce_ex__', '__subclasshook__', '__init_subclass__', '__format__', '__dir__', '__class__']\n",
      "dict functions: \n",
      "['__repr__', '__hash__', '__getattribute__', '__lt__', '__le__', '__eq__', '__ne__', '__gt__', '__ge__', '__iter__', '__init__', '__len__', '__getitem__', '__setitem__', '__delitem__', '__contains__', '__new__', '__sizeof__', 'get', 'setdefault', 'pop', 'popitem', 'keys', 'items', 'values', 'update', 'fromkeys', 'clear', 'copy', '__doc__', '__str__', '__setattr__', '__delattr__', '__reduce_ex__', '__reduce__', '__subclasshook__', '__init_subclass__', '__format__', '__dir__', '__class__']\n"
     ]
    }
   ],
   "source": [
    "'''list, tuple, set, dict function lists'''\n",
    "print(\n",
    "    'list functions: ', ['str'].__dir__(),\n",
    "    'tuple functions: ', (1, 3, 5).__dir__(),\n",
    "    'set functions: ', set([1, 3, 5]).__dir__(),  # set form: {1, 3, 5}\n",
    "    'dict functions: ', dict([('apple', 1), ('orange', 6), ('banana', 9)]).__dir__(),\n",
    "    # dict form: {'apple': 10, 'orange': 6, 'banana': 9}\n",
    "    sep='\\n'\n",
    ")"
   ]
  },
  {
   "cell_type": "markdown",
   "metadata": {},
   "source": [
    "### list"
   ]
  },
  {
   "cell_type": "code",
   "execution_count": 16,
   "metadata": {
    "ExecuteTime": {
     "end_time": "2019-11-13T06:35:17.586254Z",
     "start_time": "2019-11-13T06:35:17.576258Z"
    },
    "collapsed": true
   },
   "outputs": [
    {
     "name": "stdout",
     "output_type": "stream",
     "text": [
      "b1: \n",
      "['banana', 'kiwifruits', 'grapefruits', 'apples', 'apricots', 'nectarines', 'oranges', 'peaches', 'pears', 'lemons']\n",
      "b2: \n",
      "['grapes', 'dragonfruits', 'limes', 'papaya']\n",
      "b1: \n",
      "['banana', 'kiwifruits', 'grapefruits', 'apples', 'apricots', 'nectarines', 'oranges']\n",
      "b2: \n",
      "['grapes', 'dragonfruits', 'limes', 'papaya', 'lemons', 'pears', 'peaches']\n"
     ]
    }
   ],
   "source": [
    "basket1 = ['banana', 'kiwifruits', 'grapefruits',\n",
    "           'apples', 'apricots', 'nectarines',\n",
    "           'oranges', 'peaches', 'pears', 'lemons']\n",
    "basket2 = ['apples', 'grapes', 'apricots',\n",
    "           'dragonfruits', 'peaches', 'pears',\n",
    "           'limes', 'papaya']\n",
    "\n",
    "\n",
    "'''\n",
    "Task 1. Your first task is to remove everything from basket2 that is already present in basket1.'''\n",
    "for item in basket1:\n",
    "    if item in basket2:\n",
    "        basket2.remove(item)\n",
    "print('b1: ', basket1, \n",
    "      'b2: ', basket2, \n",
    "      sep='\\n')\n",
    "\n",
    "\n",
    "'''\n",
    "Task 2. After the removal it is reasonable to anticipate that \n",
    "one of the baskets might weigh more compared to the another (all fruit kinds weight the same).\n",
    "Therefore, the second task is to transfer some fruits from a heavier basket to\n",
    "the lighter one to get approximately the same weight/amount of fruits.'''\n",
    "while abs(len(basket1) - len(basket2)) > 1:\n",
    "    item_to_transfer = basket1.pop()\n",
    "    basket2.append(item_to_transfer)\n",
    "\n",
    "print('b1: ', basket1, \n",
    "      'b2: ', basket2, \n",
    "      sep='\\n')"
   ]
  },
  {
   "cell_type": "markdown",
   "metadata": {},
   "source": [
    "### set"
   ]
  },
  {
   "cell_type": "code",
   "execution_count": 20,
   "metadata": {
    "ExecuteTime": {
     "end_time": "2019-11-13T06:51:49.375305Z",
     "start_time": "2019-11-13T06:51:49.359802Z"
    },
    "collapsed": true
   },
   "outputs": [
    {
     "data": {
      "text/plain": [
       "{1, 2, 3, 4, 5, 6, 7}"
      ]
     },
     "execution_count": 20,
     "metadata": {},
     "output_type": "execute_result"
    }
   ],
   "source": [
    "A = {1, 2, 3, 4, 5, 6, 7}\n",
    "B = {5, 7, 9, 11, 13, 15}\n",
    "C = {1, 2, 8, 10, 11, 12, 13, 14, 15, 16, 17}\n",
    "D = {1, 3, 5, 7, 9, 11, 12, 13, 14, 15, 16, 17, 18, 19, 20}\n",
    "E = {9, 10, 11, 12, 13, 14, 15}\n",
    "\n",
    "'''\n",
    "X∩Y - the intersection between X and Y (all elements which are in both X and Y)\n",
    "X∪Y - the union between X and Y (all elements which are either in X or Y)\n",
    "X−Y - the difference between X and Y (all elements which are in X but not in Y)'''\n",
    "\n",
    "# What is the result of the following expression? (A∪(B∩C))−(D∩E)\n",
    "B.intersection(C).union(A).difference(D.intersection(E))"
   ]
  },
  {
   "cell_type": "markdown",
   "metadata": {},
   "source": [
    "### dictionary\n",
    ">Keys can represent only immutable objects."
   ]
  },
  {
   "cell_type": "markdown",
   "metadata": {},
   "source": [
    "The surface you see below is called circular paraboloid:\n",
    "![](circular_paraboloid.png)\n",
    "\n",
    "Circular Paraboloid\n",
    "It can be described by the following equation:\n",
    "$$\\frac{x^2}{a^2} + \\frac{y^2}{a^2} = z$$\n",
    "Let's set the coefficient a to 1. Therefore, the radius at each cut will be equal to $\\sqrt{2}$.\n",
    "\n",
    "Your task is to create a dictionary that stores the mapping from the pair of coordinates (x,y)\n",
    "to the z coordinate (the lists storing considered ranges for x and y are given: range_x and range_y, respectively)."
   ]
  },
  {
   "cell_type": "code",
   "execution_count": null,
   "metadata": {},
   "outputs": [],
   "source": [
    "range_x = [0.0, 0.2, 0.4, 0.6, 0.8, 1.0, 1.2, 1.4, 1.6, 1.8, 2.0]\n",
    "range_y = [0.0, 0.2, 0.4, 0.6, 0.8, 1.0, 1.2, 1.4, 1.6, 1.8, 2.0]\n",
    "a = 1\n",
    "\n",
    "circ_parab = dict()\n",
    "\n",
    "for x in range_x:\n",
    "    for y in range_y:        \n",
    "        # Calculate the value for z\n",
    "        z = x**2/a**2 + y**2/a**2\n",
    "        # Create a new key for the dictionary\n",
    "        key = (x, y)\n",
    "        # Create a new key-value pair      \n",
    "        circ_parab[key] = z\n",
    "        \n",
    "'''What is the value of circ_parab for the key (1.8, 1.4)?'''\n",
    "circ_parab[(1.8, 1.4)]"
   ]
  },
  {
   "cell_type": "markdown",
   "metadata": {
    "ExecuteTime": {
     "end_time": "2019-11-13T07:12:30.873870Z",
     "start_time": "2019-11-13T07:12:30.866873Z"
    }
   },
   "source": [
    "## strings manipulation"
   ]
  },
  {
   "cell_type": "code",
   "execution_count": 24,
   "metadata": {
    "ExecuteTime": {
     "end_time": "2019-11-13T07:39:31.185763Z",
     "start_time": "2019-11-13T07:39:31.179769Z"
    },
    "collapsed": true
   },
   "outputs": [
    {
     "name": "stdout",
     "output_type": "stream",
     "text": [
      "string functions: \n",
      "['__repr__', '__hash__', '__str__', '__getattribute__', '__lt__', '__le__', '__eq__', '__ne__', '__gt__', '__ge__', '__iter__', '__mod__', '__rmod__', '__len__', '__getitem__', '__add__', '__mul__', '__rmul__', '__contains__', '__new__', 'encode', 'replace', 'split', 'rsplit', 'join', 'capitalize', 'casefold', 'title', 'center', 'count', 'expandtabs', 'find', 'partition', 'index', 'ljust', 'lower', 'lstrip', 'rfind', 'rindex', 'rjust', 'rstrip', 'rpartition', 'splitlines', 'strip', 'swapcase', 'translate', 'upper', 'startswith', 'endswith', 'isascii', 'islower', 'isupper', 'istitle', 'isspace', 'isdecimal', 'isdigit', 'isnumeric', 'isalpha', 'isalnum', 'isidentifier', 'isprintable', 'zfill', 'format', 'format_map', '__format__', 'maketrans', '__sizeof__', '__getnewargs__', '__doc__', '__setattr__', '__delattr__', '__init__', '__reduce_ex__', '__reduce__', '__subclasshook__', '__init_subclass__', '__dir__', '__class__']\n"
     ]
    }
   ],
   "source": [
    "print('string functions: ', 'str'.__dir__(), sep='\\n')"
   ]
  },
  {
   "cell_type": "markdown",
   "metadata": {},
   "source": [
    "    You are presented with one of the earliest known encryption techniques - Caesar cipher. It is based on a simple shift of each letter in a message by a certain number of positions down the given alphabet.\n",
    "\n",
    "    Thus, encryption/decryption requires two arguments: text and an integer key denoting 指示 the shift (key = 1 for the example above).\n",
    "    alphabet = 'abcdefghijklmnopqrstuvwxyz'\n",
    "    "
   ]
  },
  {
   "cell_type": "code",
   "execution_count": 41,
   "metadata": {
    "ExecuteTime": {
     "end_time": "2019-11-13T08:31:27.716761Z",
     "start_time": "2019-11-13T08:31:27.701769Z"
    },
    "collapsed": true
   },
   "outputs": [
    {
     "name": "stdout",
     "output_type": "stream",
     "text": [
      "encrypt datacamp ->  nkdkmkwz\n",
      "decrypt from encrypt('datacamp', key=10) ->  datacamp\n"
     ]
    }
   ],
   "source": [
    "alphabet = 'abcdefghijklmnopqrstuvwxyz'\n",
    "\n",
    "def encrypt(text, key):\n",
    "    result = ''\n",
    "    # Fill in the blanks to create an encrypted text\n",
    "    for char in text.lower():\n",
    "        idx = (alphabet.index(char) + key) % len(alphabet)\n",
    "        result = result + alphabet[idx]  # string concatenation\n",
    "    return result\n",
    "\n",
    "\n",
    "def decrypt(encrypted_text, key):\n",
    "    result = ''\n",
    "    for char in encrypted_text.lower():\n",
    "        idx = (alphabet.index(char) - key) % len(alphabet)\n",
    "        result = result + alphabet[idx]\n",
    "    return result\n",
    "# Check the encryption function with the shift equals to 10\n",
    "print('encrypt datacamp -> ', encrypt('datacamp', key=10))\n",
    "print('decrypt from encrypt(\\'datacamp\\', key=10) -> ', \n",
    "      decrypt(encrypt(\"datacamp\", key=10), key=10))"
   ]
  },
  {
   "cell_type": "markdown",
   "metadata": {},
   "source": [
    "    Your task is to modify this string in such a way that would result in 'string OBJECTS have MANY interesting PROPERTIES' (every other word in text is uppercased and lowercased, otherwise)."
   ]
  },
  {
   "cell_type": "code",
   "execution_count": 53,
   "metadata": {
    "ExecuteTime": {
     "end_time": "2019-11-13T08:48:38.864014Z",
     "start_time": "2019-11-13T08:48:38.853005Z"
    },
    "collapsed": true
   },
   "outputs": [
    {
     "name": "stdout",
     "output_type": "stream",
     "text": [
      "string OBJECTS have MANY interesting PROPERTIES\n"
     ]
    }
   ],
   "source": [
    "word_list = 'StRing ObJeCts haVe mANy inTEResting pROPerTies'.split()\n",
    "\n",
    "# Make every other word uppercased; otherwise - lowercased\n",
    "for i in range(len(word_list)):\n",
    "    if i % 2 == 0:\n",
    "        word_list[i] = word_list[i].lower()\n",
    "    else:\n",
    "        word_list[i] = word_list[i].upper()\n",
    "        \n",
    "# Join the words back and form a new string\n",
    "new_text = ' '.join(word_list)\n",
    "print(new_text)"
   ]
  },
  {
   "cell_type": "markdown",
   "metadata": {},
   "source": [
    "### strings in dataframe"
   ]
  },
  {
   "cell_type": "code",
   "execution_count": 60,
   "metadata": {
    "ExecuteTime": {
     "end_time": "2019-11-13T09:34:39.174851Z",
     "start_time": "2019-11-13T09:34:39.137872Z"
    },
    "collapsed": true
   },
   "outputs": [
    {
     "name": "stdout",
     "output_type": "stream",
     "text": [
      "-                   172\n",
      "black               161\n",
      "blond               102\n",
      "brown                87\n",
      "no hair              75\n",
      "red                  51\n",
      "white                23\n",
      "auburn               13\n",
      "green                 8\n",
      "strawberry blond      7\n",
      "purple                5\n",
      "grey                  5\n",
      "silver                4\n",
      "brown / white         4\n",
      "blue                  3\n",
      "yellow                2\n",
      "orange                2\n",
      "red / orange          1\n",
      "red / white           1\n",
      "red / grey            1\n",
      "magenta               1\n",
      "black / blue          1\n",
      "gold                  1\n",
      "pink                  1\n",
      "orange / white        1\n",
      "brown / black         1\n",
      "indigo                1\n",
      "Name: Hair color, dtype: int64\n",
      "Male      505\n",
      "Female    200\n",
      "-          29\n",
      "Name: Gender, dtype: int64\n"
     ]
    }
   ],
   "source": [
    "import pandas as pd\n",
    "\n",
    "heroes = pd.read_csv('heroes.csv', header=0)\n",
    "\n",
    "# Make all the values in the 'Hair color' column lowercased\n",
    "heroes['Hair color'] = heroes['Hair color'].str.lower()\n",
    "\n",
    "print(heroes['Hair color'].value_counts())\n",
    "\n",
    "# Substitute 'Fmale' with 'Female' in the 'Gender' column\n",
    "heroes['Gender'] = heroes['Gender'].str.replace('Fmale', 'Female')\n",
    "\n",
    "print(heroes['Gender'].value_counts())"
   ]
  },
  {
   "cell_type": "markdown",
   "metadata": {
    "ExecuteTime": {
     "end_time": "2019-11-13T09:28:52.001903Z",
     "start_time": "2019-11-13T09:28:51.989907Z"
    }
   },
   "source": [
    "## regular expression\n",
    ">Regular expression - a sequence of special characters (metacharacters) de×ning a pattern to search in a text.\n",
    "\n",
    "special characters\n",
    "\n",
    "exp | pattern\n",
    "-|-\n",
    ". | any character\n",
    "\\w | any alphanumeric character or underscore\n",
    "\\d | any digit\n",
    "\\s | any whitespace character, ' ' , '\\t', '\\n'\n",
    "\n",
    "square brackets\n",
    "\n",
    "exp | pattern\n",
    "-|-\n",
    "[aAbB] | a , A , b , B\n",
    "[a-z] | a , b , c , ...\n",
    "[A-Z] | A , B , C , ...\n",
    "[0-9] | 0 , 1 , 2 , ...\n",
    "[A-Za-z] | A , B , C , ..., a , b , c , ...\n",
    "\n",
    "Repetitions\n",
    "\n",
    "exp | pattern\n",
    "-|-\n",
    "* | no character or it repeats an unde×ned number of times\n",
    "+ | the character is present at least once\n",
    "? | the character exists or not\n",
    "{n, m} | the character is present from n to m times\n"
   ]
  },
  {
   "cell_type": "markdown",
   "metadata": {},
   "source": [
    "### re.compile(), re.finditer(), re.findall(), re.split()"
   ]
  },
  {
   "cell_type": "code",
   "execution_count": 66,
   "metadata": {
    "ExecuteTime": {
     "end_time": "2019-11-14T03:48:40.852850Z",
     "start_time": "2019-11-14T03:48:40.838859Z"
    },
    "collapsed": true
   },
   "outputs": [
    {
     "name": "stdout",
     "output_type": "stream",
     "text": [
      "<callable_iterator object at 0x0000025EA9237908> \n",
      "\n",
      "<re.Match object; span=(0, 22), match='john.smith@mailbox.com'>\n",
      "john.smith@mailbox.com\n",
      "0\n",
      "22 \n",
      "\n",
      "<re.Match object; span=(77, 93), match='boss@company.com'>\n",
      "boss@company.com\n",
      "77\n",
      "93 \n",
      "\n",
      "<re.Match object; span=(146, 162), match='info@company.com'>\n",
      "info@company.com\n",
      "146\n",
      "162 \n",
      "\n",
      "\n",
      " ['john.smith@mailbox.com', 'boss@company.com', 'info@company.com']\n",
      "\n",
      " ['', ' is the e-mail of John. He often writes to his boss at ', '. But the messages get forwarded to his secretary at ', '.']\n"
     ]
    }
   ],
   "source": [
    "import re\n",
    "\n",
    "pattern = re.compile(r'[\\w\\.]+@[a-z]+\\.[a-z]+')  # 编译后的pattern, UNICODE\n",
    "# forward slash means to be continue...\n",
    "text = 'john.smith@mailbox.com is the e-mail of '\\\n",
    "'John. He often writes to his boss at '\\\n",
    "'boss@company.com. But the messages get forwarded '\\\n",
    "'to his secretary at info@company.com.'\n",
    "\n",
    "result = re.finditer(pattern, text)  # result is a iterable object\n",
    "print(result, '\\n')\n",
    "\n",
    "for match in result:\n",
    "    print(match)\n",
    "    print(match.group())\n",
    "    print(match.start())\n",
    "    print(match.end(), '\\n')\n",
    "    \n",
    "substrings = re.findall(pattern, text)\n",
    "print('\\n', substrings)\n",
    "\n",
    "split_list = re.split(pattern, text)\n",
    "print('\\n', split_list)"
   ]
  },
  {
   "cell_type": "markdown",
   "metadata": {
    "ExecuteTime": {
     "end_time": "2019-11-13T13:39:37.868272Z",
     "start_time": "2019-11-13T13:39:37.856278Z"
    }
   },
   "source": [
    "## iterable objects\n",
    ">iterable objects / Iterables - any object that can be used in a for loop.    \n",
    "list, tuple, set, dictionary, string"
   ]
  },
  {
   "cell_type": "markdown",
   "metadata": {},
   "source": [
    "### dictionary"
   ]
  },
  {
   "cell_type": "code",
   "execution_count": 47,
   "metadata": {
    "ExecuteTime": {
     "end_time": "2019-11-14T03:31:19.060311Z",
     "start_time": "2019-11-14T03:31:19.045322Z"
    },
    "collapsed": true
   },
   "outputs": [
    {
     "name": "stdout",
     "output_type": "stream",
     "text": [
      "Episode I\n",
      "Episode II\n",
      "Episode III\n",
      "Episode IV\n",
      "Episode V\n",
      "Episode VI\n",
      "\n",
      "\n",
      "('Episode I', 'The Phantom Menace')\n",
      "('Episode II', 'Attack of the Clones')\n",
      "('Episode III', 'Revenge of the Sith')\n",
      "('Episode IV', 'A New Hope')\n",
      "('Episode V', 'The Empire Strikes Back')\n",
      "('Episode VI', 'Return of the Jedi')\n",
      "\n",
      "\n",
      "Episode I: The Phantom Menace\n",
      "Episode II: Attack of the Clones\n",
      "Episode III: Revenge of the Sith\n",
      "Episode IV: A New Hope\n",
      "Episode V: The Empire Strikes Back\n",
      "Episode VI: Return of the Jedi\n"
     ]
    }
   ],
   "source": [
    "episodes = {\n",
    "    'Episode I': 'The Phantom Menace',\n",
    "    'Episode II': 'Attack of the Clones',\n",
    "    'Episode III': 'Revenge of the Sith',\n",
    "    'Episode IV': 'A New Hope',\n",
    "    'Episode V': 'The Empire Strikes Back',\n",
    "    'Episode VI': 'Return of the Jedi'\n",
    "}\n",
    "\n",
    "for episode in episodes:  # keys\n",
    "    print(episode)\n",
    "print('\\n')\n",
    "\n",
    "for item in episodes.items():  # key-value pairs\n",
    "    print(item)\n",
    "print('\\n')\n",
    "\n",
    "for title, subtitle in episodes.items():\n",
    "    print(title + ': ' + subtitle)"
   ]
  },
  {
   "cell_type": "markdown",
   "metadata": {},
   "source": [
    "### enumerate"
   ]
  },
  {
   "cell_type": "code",
   "execution_count": 51,
   "metadata": {
    "ExecuteTime": {
     "end_time": "2019-11-14T03:34:41.770641Z",
     "start_time": "2019-11-14T03:34:41.760649Z"
    },
    "collapsed": true
   },
   "outputs": [
    {
     "name": "stdout",
     "output_type": "stream",
     "text": [
      "(0, 'Darth Maul')\n",
      "(1, 'Palpatine')\n",
      "(2, 'Darth Vader')\n",
      "\n",
      "\n",
      "0 - Darth Maul\n",
      "1 - Palpatine\n",
      "2 - Darth Vader\n"
     ]
    }
   ],
   "source": [
    "villains = ['Darth Maul', 'Palpatine', 'Darth Vader']\n",
    "\n",
    "for item in enumerate(villains):  # return tuple\n",
    "    print(item)\n",
    "print('\\n')    \n",
    "\n",
    "for idx, name in enumerate(villains):\n",
    "    print(idx, '-', name)"
   ]
  },
  {
   "cell_type": "markdown",
   "metadata": {},
   "source": [
    "### iterator"
   ]
  },
  {
   "cell_type": "code",
   "execution_count": 58,
   "metadata": {
    "ExecuteTime": {
     "end_time": "2019-11-14T03:44:53.407138Z",
     "start_time": "2019-11-14T03:44:53.400146Z"
    },
    "collapsed": true
   },
   "outputs": [
    {
     "name": "stdout",
     "output_type": "stream",
     "text": [
      "<range_iterator object at 0x0000025EA9A044D0> \n",
      "\n",
      "0 1 2\n"
     ]
    }
   ],
   "source": [
    "interval = range(0, 5)\n",
    "interval_iter = iter(interval)\n",
    "print(interval_iter, '\\n')\n",
    "\n",
    "print(\n",
    "    next(interval_iter),\n",
    "    next(interval_iter),\n",
    "    next(interval_iter)\n",
    ")"
   ]
  },
  {
   "cell_type": "code",
   "execution_count": 62,
   "metadata": {
    "ExecuteTime": {
     "end_time": "2019-11-14T03:45:21.245687Z",
     "start_time": "2019-11-14T03:45:21.237690Z"
    },
    "collapsed": true
   },
   "outputs": [
    {
     "name": "stdout",
     "output_type": "stream",
     "text": [
      "0\n",
      "1\n",
      "2\n",
      "3\n",
      "4\n"
     ]
    }
   ],
   "source": [
    "'''for loop to iterate'''\n",
    "interval = range(0, 5)\n",
    "interval_iter = iter(interval)\n",
    "\n",
    "for i in interval_iter:\n",
    "    print(i)"
   ]
  },
  {
   "cell_type": "code",
   "execution_count": 72,
   "metadata": {
    "ExecuteTime": {
     "end_time": "2019-11-14T03:53:03.148603Z",
     "start_time": "2019-11-14T03:53:03.139607Z"
    },
    "collapsed": true
   },
   "outputs": [
    {
     "name": "stdout",
     "output_type": "stream",
     "text": [
      "0\n",
      "1\n",
      "2\n",
      "3\n",
      "4\n",
      "Iteration is stop.\n"
     ]
    }
   ],
   "source": [
    "'''while loop to iterate'''\n",
    "interval = range(0, 5)\n",
    "interval_iter = iter(interval)\n",
    "\n",
    "while True:\n",
    "    try:\n",
    "        i = next(interval_iter)\n",
    "        print(i)\n",
    "    except StopIteration:\n",
    "        print('Iteration is stop.')\n",
    "        break"
   ]
  },
  {
   "cell_type": "code",
   "execution_count": 112,
   "metadata": {
    "ExecuteTime": {
     "end_time": "2019-11-14T06:03:37.510223Z",
     "start_time": "2019-11-14T06:03:37.497230Z"
    },
    "collapsed": true
   },
   "outputs": [
    {
     "name": "stdout",
     "output_type": "stream",
     "text": [
      "                weight  height\n",
      "Luke Skywalker     168      77\n",
      "Han Solo           183      79\n",
      "Darth Vader        198     135\n"
     ]
    }
   ],
   "source": [
    "'''dataframe iterator'''\n",
    "import pandas as pd\n",
    "\n",
    "pars = {'weight': [168, 183, 198], 'height': [77, 79, 135]}\n",
    "characters = pd.DataFrame(pars, index=['Luke Skywalker', 'Han Solo', 'Darth Vader'])\n",
    "\n",
    "print(characters)  # dataframe"
   ]
  },
  {
   "cell_type": "code",
   "execution_count": null,
   "metadata": {
    "ExecuteTime": {
     "end_time": "2019-11-14T04:10:44.951552Z",
     "start_time": "2019-11-14T04:10:44.932563Z"
    }
   },
   "outputs": [],
   "source": [
    "for item in characters:  # return keys of a dataframe\n",
    "    print(item)\n",
    "print('\\n')"
   ]
  },
  {
   "cell_type": "code",
   "execution_count": 161,
   "metadata": {
    "ExecuteTime": {
     "end_time": "2019-11-14T10:17:33.186328Z",
     "start_time": "2019-11-14T10:17:33.172336Z"
    },
    "collapsed": true
   },
   "outputs": [
    {
     "name": "stdout",
     "output_type": "stream",
     "text": [
      "('Luke Skywalker', weight    168\n",
      "height     77\n",
      "Name: Luke Skywalker, dtype: int64)\n",
      "('Han Solo', weight    183\n",
      "height     79\n",
      "Name: Han Solo, dtype: int64)\n",
      "('Darth Vader', weight    198\n",
      "height    135\n",
      "Name: Darth Vader, dtype: int64)\n",
      "\n",
      "\n",
      "Luke Skywalker \n",
      " Index(['weight', 'height'], dtype='object') \n",
      " [168  77]\n",
      "Han Solo \n",
      " Index(['weight', 'height'], dtype='object') \n",
      " [183  79]\n",
      "Darth Vader \n",
      " Index(['weight', 'height'], dtype='object') \n",
      " [198 135]\n"
     ]
    }
   ],
   "source": [
    "for item in characters.iterrows():  # return (index name, Series)\n",
    "    print(item)\n",
    "print('\\n')\n",
    "\n",
    "for idx, item in characters.iterrows():\n",
    "    print(idx, '\\n', item.index, '\\n', item.values)"
   ]
  },
  {
   "cell_type": "code",
   "execution_count": 79,
   "metadata": {
    "ExecuteTime": {
     "end_time": "2019-11-14T04:10:44.951552Z",
     "start_time": "2019-11-14T04:10:44.932563Z"
    }
   },
   "outputs": [
    {
     "name": "stdout",
     "output_type": "stream",
     "text": [
      "weight\n",
      "height\n",
      "\n",
      "\n",
      "('Luke Skywalker', weight    168\n",
      "height     77\n",
      "Name: Luke Skywalker, dtype: int64)\n",
      "('Han Solo', weight    183\n",
      "height     79\n",
      "Name: Han Solo, dtype: int64)\n",
      "('Darth Vader', weight    198\n",
      "height    135\n",
      "Name: Darth Vader, dtype: int64)\n",
      "\n",
      "\n",
      "('weight', Luke Skywalker    168\n",
      "Han Solo          183\n",
      "Darth Vader       198\n",
      "Name: weight, dtype: int64)\n",
      "('height', Luke Skywalker     77\n",
      "Han Solo           79\n",
      "Darth Vader       135\n",
      "Name: height, dtype: int64)\n",
      "\n",
      "\n"
     ]
    }
   ],
   "source": [
    "for item in characters.iteritems():  # return (column name, Series)\n",
    "    print(item)\n",
    "print('\\n')\n",
    "\n",
    "\n",
    "\n"
   ]
  },
  {
   "cell_type": "code",
   "execution_count": 113,
   "metadata": {
    "ExecuteTime": {
     "end_time": "2019-11-14T06:03:52.825381Z",
     "start_time": "2019-11-14T06:03:52.817366Z"
    },
    "collapsed": true
   },
   "outputs": [
    {
     "name": "stdout",
     "output_type": "stream",
     "text": [
      "{'e': [0, 4, 8, 15, 20], 'n': [1, 11], 'u': [2], 'm': [3], 'r': [5, 16], 'a': [6, 10, 17], 't': [7, 14], ' ': [9, 12], 'I': [13], 'b': [18], 'l': [19]}\n"
     ]
    }
   ],
   "source": [
    "def retrieve_character_indices(string):\n",
    "    character_indices = dict()\n",
    "    # Define the 'for' loop\n",
    "    for index, character in enumerate(string):\n",
    "        # Update the dictionary if the key already exists\n",
    "        if character in character_indices:\n",
    "            character_indices[character].append(index)\n",
    "        # Update the dictionary if the key is absent\n",
    "        else:\n",
    "            '''initialize the key-value pair to a list'''\n",
    "            character_indices[character] = [index]  \n",
    "            \n",
    "    return character_indices\n",
    "  \n",
    "print(retrieve_character_indices('enumerate an Iterable'))"
   ]
  },
  {
   "cell_type": "code",
   "execution_count": 153,
   "metadata": {
    "ExecuteTime": {
     "end_time": "2019-11-14T09:09:10.126050Z",
     "start_time": "2019-11-14T09:09:10.091069Z"
    },
    "collapsed": true
   },
   "outputs": [
    {
     "name": "stdout",
     "output_type": "stream",
     "text": [
      "Gender -> {'Male': 505, '-': 29, 'Female': 200} \n",
      "\n",
      "Eye color -> {'gold': 3, 'silver': 1, 'yellow (without irises)': 2, 'green': 73, 'green / blue': 1, 'blue / white': 1, 'amber': 2, 'black': 23, 'blue': 225, 'purple': 4, 'yellow / blue': 1, 'grey': 6, 'white': 17, 'brown': 127, '-': 172, 'hazel': 6, 'yellow / red': 1, 'white / red': 1, 'indigo': 1, 'red': 46, 'yellow': 19, 'violet': 2} \n",
      "\n",
      "Race -> {'New God': 3, 'Metahuman': 2, 'Asgardian': 5, 'Martian': 1, 'Human-Vulcan': 1, 'Android': 9, 'Demon': 6, 'Ungaran': 1, 'Human / Altered': 3, 'Dathomirian Zabrak': 1, 'Spartoi': 1, 'Human-Spartoi': 1, 'Clone': 1, 'Parademon': 1, 'Bolovaxian': 1, 'Vampire': 2, 'Frost Giant': 2, 'Cyborg': 11, 'Xenomorph XX121': 1, 'Neyaphem': 1, 'Czarnian': 1, 'Gorilla': 1, 'Cosmic Entity': 4, 'Mutant': 63, 'Alien': 7, 'Human-Vuldarian': 1, 'Human-Kree': 2, 'Luphomoid': 1, 'Yautja': 1, 'Alpha': 5, 'Maiar': 1, 'Human / Radiation': 11, 'Eternal': 2, 'Planet': 1, 'God / Eternal': 14, 'Kakarantharaian': 1, 'Rodian': 1, 'Saiyan': 2, 'Demi-God': 2, '-': 304, 'Zombie': 1, 'Kryptonian': 7, 'Kaiju': 1, 'Gungan': 1, 'Tamaranean': 1, 'Inhuman': 4, 'Human / Cosmic': 2, 'Animal': 4, 'Strontian': 1, 'Human': 208, 'Korugaran': 1, 'Mutant / Clone': 1, 'Bizarro': 1, 'Flora Colossus': 1, 'Zen-Whoberian': 1, 'Icthyo Sapien': 1, 'Talokite': 1, \"Yoda's species\": 1, 'Amazon': 2, 'Human / Clone': 1, 'Atlantean': 5, 'Symbiote': 9} \n",
      "\n",
      "Hair color -> {'Orange': 2, 'Yellow': 2, 'Magenta': 1, 'Indigo': 1, 'Green': 8, 'Auburn': 13, 'Brown / White': 4, 'blond': 3, 'Grey': 5, 'Red / White': 1, 'Brown / Black': 1, 'Blond': 99, 'Red / Grey': 1, 'black': 3, 'Purple': 5, 'Strawberry Blond': 7, 'Red': 51, 'Blue': 3, 'Red / Orange': 1, 'Black': 158, 'Pink': 1, 'Gold': 1, 'Black / Blue': 1, '-': 172, 'White': 23, 'No Hair': 75, 'Brown': 87, 'Silver': 4, 'Orange / White': 1} \n",
      "\n"
     ]
    }
   ],
   "source": [
    "heroes = pd.read_csv('heroes.csv', header=0)\n",
    "heroes = heroes[['Gender', 'Eye color', 'Race', 'Hair color']]\n",
    "column_counts = dict()\n",
    "\n",
    "# Traverse through the columns in the heroes DataFrame\n",
    "for column_name, series in heroes.iteritems():\n",
    "    # Retrieve the values stored in series in a list form\n",
    "    values = list(series)\n",
    "    category_counts = dict()  \n",
    "    # Traverse through unique categories in values\n",
    "    for category in set(values):\n",
    "        # Count the appearance of category in values\n",
    "        category_counts[category] = values.count(category)\n",
    "    \n",
    "    column_counts[column_name] = category_counts\n",
    "\n",
    "for i in column_counts.keys():\n",
    "    print(i, '->', column_counts[i], '\\n')"
   ]
  },
  {
   "cell_type": "markdown",
   "metadata": {},
   "source": [
    "## list comprehension\n",
    "\n",
    "List comprehension is defined by:\n",
    "+ an iterable object (e.g. list, tuple, set)\n",
    "+ an operation on an element\n",
    "+ (optional) conditions"
   ]
  },
  {
   "cell_type": "code",
   "execution_count": 119,
   "metadata": {
    "ExecuteTime": {
     "end_time": "2019-11-14T06:17:14.114158Z",
     "start_time": "2019-11-14T06:17:14.105169Z"
    },
    "collapsed": true
   },
   "outputs": [
    {
     "name": "stdout",
     "output_type": "stream",
     "text": [
      "[2, 4, 6, 8, 10]\n"
     ]
    }
   ],
   "source": [
    "nums = [2, 4, 6, 8, 10]\n",
    "nums_new = [num for num in range(1, 11) if num % 2 == 0]\n",
    "\n",
    "print(nums_new)"
   ]
  },
  {
   "cell_type": "code",
   "execution_count": null,
   "metadata": {
    "ExecuteTime": {
     "end_time": "2019-11-14T09:16:41.267777Z",
     "start_time": "2019-11-14T09:16:41.257785Z"
    }
   },
   "outputs": [],
   "source": [
    "numbers = [1, 2, 3]\n",
    "letters = ['a', 'b', 'c']\n",
    "\n",
    "pairs0 = [(i, j) for i in numbers for j in letters]"
   ]
  },
  {
   "cell_type": "code",
   "execution_count": null,
   "metadata": {
    "ExecuteTime": {
     "end_time": "2019-11-14T09:16:41.267777Z",
     "start_time": "2019-11-14T09:16:41.257785Z"
    }
   },
   "outputs": [],
   "source": [
    "pairs1 = [[(i, j) for i in numbers] for j in letters]\n",
    "\n",
    "pairs = []  # outter square brackets\n",
    "for j in letters:\n",
    "    temp = []  # inner square brackets\n",
    "    for i in numbers:\n",
    "        temp.append((i, j))\n",
    "    pairs.append(temp)"
   ]
  },
  {
   "cell_type": "code",
   "execution_count": null,
   "metadata": {
    "ExecuteTime": {
     "end_time": "2019-11-14T09:16:41.267777Z",
     "start_time": "2019-11-14T09:16:41.257785Z"
    }
   },
   "outputs": [],
   "source": [
    "pairs2 = [[(i, j) for i in letters] for j in numbers]\n",
    "\n",
    "pairs = []\n",
    "for j in numbers:\n",
    "    temp = []\n",
    "    for i in letters:\n",
    "        temp.append((i, j))\n",
    "    pairs.append(temp)"
   ]
  },
  {
   "cell_type": "code",
   "execution_count": 154,
   "metadata": {
    "ExecuteTime": {
     "end_time": "2019-11-14T09:16:41.267777Z",
     "start_time": "2019-11-14T09:16:41.257785Z"
    },
    "collapsed": true
   },
   "outputs": [
    {
     "name": "stdout",
     "output_type": "stream",
     "text": [
      "[(1, 'a'), (1, 'b'), (1, 'c'), (2, 'a'), (2, 'b'), (2, 'c'), (3, 'a'), (3, 'b'), (3, 'c')]\n",
      "[[(1, 'a'), (2, 'a'), (3, 'a')], [(1, 'b'), (2, 'b'), (3, 'b')], [(1, 'c'), (2, 'c'), (3, 'c')]]\n",
      "[[('a', 1), ('b', 1), ('c', 1)], [('a', 2), ('b', 2), ('c', 2)], [('a', 3), ('b', 3), ('c', 3)]]\n"
     ]
    }
   ],
   "source": [
    "print(pairs0, pairs1, pairs2, sep='\\n')"
   ]
  },
  {
   "cell_type": "code",
   "execution_count": 166,
   "metadata": {
    "ExecuteTime": {
     "end_time": "2019-11-14T14:09:20.172313Z",
     "start_time": "2019-11-14T14:09:20.160323Z"
    },
    "collapsed": true
   },
   "outputs": [
    {
     "name": "stdout",
     "output_type": "stream",
     "text": [
      "service.: 2\n",
      "our: 2\n",
      "verify: 2\n",
      "the: 4\n",
      "you: 3\n",
      "your: 4\n",
      "administration: 2\n",
      "to: 4\n",
      "account: 2\n"
     ]
    }
   ],
   "source": [
    "spam = 'Dear User,\\n\\n \\\n",
    "Our Administration Team needs to inform you that you are reaching the storage limit of your Mailbox account.\\n \\\n",
    "You have to verify your account within the next 24 hours.\\n \\\n",
    "Otherwise, it will not be possible to use the service.\\n \\\n",
    "Please, click on the link below to verify your account and continue using our service.\\n \\\n",
    "\\nYour Administration Team.'\n",
    "\n",
    "\n",
    "# Convert the text to lower case and create a word list\n",
    "words = spam.lower().split()\n",
    "\n",
    "# Create a set storing only unique words\n",
    "word_set = set(words)\n",
    "\n",
    "# Create a dictionary that counts each word in the list\n",
    "tuples = [(word, words.count(word)) for word in word_set]\n",
    "word_counter = dict(tuples)\n",
    "\n",
    "# Printing words that appear more than once\n",
    "for (key, value) in word_counter.items():\n",
    "    if value > 1:\n",
    "        print(\"{}: {}\".format(key, value))"
   ]
  },
  {
   "cell_type": "markdown",
   "metadata": {},
   "source": [
    "### Prime number sequence    \n",
    "A number is prime if it is not divisible by any integer number from 2 to $\\sqrt{n}$ (any number n is not divisible by anything higher than $\\sqrt{n}$).\n"
   ]
  },
  {
   "cell_type": "code",
   "execution_count": 175,
   "metadata": {
    "ExecuteTime": {
     "end_time": "2019-11-14T14:39:33.526966Z",
     "start_time": "2019-11-14T14:39:33.514975Z"
    },
    "collapsed": true
   },
   "outputs": [
    {
     "name": "stdout",
     "output_type": "stream",
     "text": [
      "primes = [5, 13, 17, 29, 37, 41]\n"
     ]
    }
   ],
   "source": [
    "import math as math\n",
    "\n",
    "cands = [1, 5, 9, 13, 17, 21, 25, 29, 33, 37, 41, 45, 49]\n",
    "\n",
    "def is_prime(n):\n",
    "    # Define the initial check\n",
    "    if n < 2:\n",
    "       return False\n",
    "    # Define the loop checking if a number is not prime\n",
    "    for i in range(2, int(math.sqrt(n)) + 1):\n",
    "        if n % i == 0:\n",
    "            return False\n",
    "    return True\n",
    "    \n",
    "# Filter prime numbers into the new list\n",
    "primes = [num for num in cands if is_prime(num)]\n",
    "print(\"primes = \" + str(primes))"
   ]
  },
  {
   "cell_type": "markdown",
   "metadata": {
    "ExecuteTime": {
     "end_time": "2019-11-14T14:32:50.831728Z",
     "start_time": "2019-11-14T14:32:50.823731Z"
    }
   },
   "source": [
    "### Coprime number sequence ?\n",
    "\n",
    "Two numbers a\n",
    "and b are coprime if their Greatest Common Divisor (GCD) is 1. GCD is the largest positive number that divides two given numbers a and b. For example, the numbers 7 and 9 are coprime because their GCD is 1.\n",
    "\n",
    "Given two lists list1 and list2, your task is to create a new list coprimes that contains all the coprime pairs from list1 and list2.\n",
    "\n",
    "But first, you need to write a function for the GCD using the following algorithm:\n",
    "\n",
    "    1.check if b=0\n",
    "        if true, return a as the GCD between a and b\n",
    "        if false, go to step 2\n",
    "    2.make a substitution a←b and b←a%b\n",
    "    3.go back to step 1"
   ]
  },
  {
   "cell_type": "code",
   "execution_count": 176,
   "metadata": {
    "ExecuteTime": {
     "end_time": "2019-11-15T01:52:18.229532Z",
     "start_time": "2019-11-15T01:52:18.214522Z"
    },
    "collapsed": true
   },
   "outputs": [
    {
     "name": "stdout",
     "output_type": "stream",
     "text": [
      "[(5, 7), (5, 14), (5, 21), (5, 28), (5, 42), (5, 49), (5, 56), (5, 63), (5, 77), (5, 84), (5, 91), (5, 98), (10, 7), (10, 21), (10, 49), (10, 63), (10, 77), (10, 91), (15, 7), (15, 14), (15, 28), (15, 49), (15, 56), (15, 77), (15, 91), (15, 98), (20, 7), (20, 21), (20, 49), (20, 63), (20, 77), (20, 91), (25, 7), (25, 14), (25, 21), (25, 28), (25, 42), (25, 49), (25, 56), (25, 63), (25, 77), (25, 84), (25, 91), (25, 98), (30, 7), (30, 49), (30, 77), (30, 91), (40, 7), (40, 21), (40, 49), (40, 63), (40, 77), (40, 91), (45, 7), (45, 14), (45, 28), (45, 49), (45, 56), (45, 77), (45, 91), (45, 98), (50, 7), (50, 21), (50, 49), (50, 63), (50, 77), (50, 91), (55, 7), (55, 14), (55, 21), (55, 28), (55, 42), (55, 49), (55, 56), (55, 63), (55, 84), (55, 91), (55, 98), (60, 7), (60, 49), (60, 77), (60, 91), (65, 7), (65, 14), (65, 21), (65, 28), (65, 42), (65, 49), (65, 56), (65, 63), (65, 77), (65, 84), (65, 98)]\n"
     ]
    }
   ],
   "source": [
    "list1 = [5, 10, 15, 20, 25, 30, 35, 40, 45, 50, 55, 60, 65, 70]\n",
    "list2 = [7, 14, 21, 28, 35, 42, 49, 56, 63, 70, 77, 84, 91, 98]\n",
    "\n",
    "def gcd(a, b):\n",
    "    # Define the while loop as described\n",
    "    while b != 0:\n",
    "        temp_a = a\n",
    "        a = b\n",
    "        b = temp_a % b    \n",
    "    # Complete the return statement\n",
    "    return a\n",
    "    \n",
    "# Create a list of tuples defining pairs of coprime numbers\n",
    "coprimes = [(i, j) for i in list1 \n",
    "                   for j in list2 if gcd(i, j) == 1]\n",
    "print(coprimes)"
   ]
  },
  {
   "cell_type": "markdown",
   "metadata": {
    "ExecuteTime": {
     "end_time": "2019-11-14T06:08:44.589361Z",
     "start_time": "2019-11-14T06:08:44.579370Z"
    }
   },
   "source": [
    "## zip object\n",
    ">zip - object that combines several iterable objects into one iterable object."
   ]
  },
  {
   "cell_type": "code",
   "execution_count": null,
   "metadata": {
    "ExecuteTime": {
     "end_time": "2019-11-14T06:08:12.418016Z",
     "start_time": "2019-11-14T06:08:12.412018Z"
    }
   },
   "outputs": [],
   "source": []
  },
  {
   "cell_type": "code",
   "execution_count": null,
   "metadata": {},
   "outputs": [],
   "source": []
  },
  {
   "cell_type": "code",
   "execution_count": null,
   "metadata": {},
   "outputs": [],
   "source": []
  },
  {
   "cell_type": "code",
   "execution_count": null,
   "metadata": {},
   "outputs": [],
   "source": []
  },
  {
   "cell_type": "code",
   "execution_count": null,
   "metadata": {},
   "outputs": [],
   "source": []
  },
  {
   "cell_type": "code",
   "execution_count": null,
   "metadata": {},
   "outputs": [],
   "source": []
  },
  {
   "cell_type": "code",
   "execution_count": null,
   "metadata": {},
   "outputs": [],
   "source": []
  },
  {
   "cell_type": "code",
   "execution_count": null,
   "metadata": {},
   "outputs": [],
   "source": []
  },
  {
   "cell_type": "code",
   "execution_count": null,
   "metadata": {},
   "outputs": [],
   "source": []
  },
  {
   "cell_type": "code",
   "execution_count": null,
   "metadata": {},
   "outputs": [],
   "source": []
  },
  {
   "cell_type": "code",
   "execution_count": null,
   "metadata": {},
   "outputs": [],
   "source": []
  },
  {
   "cell_type": "code",
   "execution_count": null,
   "metadata": {},
   "outputs": [],
   "source": []
  },
  {
   "cell_type": "code",
   "execution_count": null,
   "metadata": {},
   "outputs": [],
   "source": []
  },
  {
   "cell_type": "code",
   "execution_count": null,
   "metadata": {},
   "outputs": [],
   "source": []
  },
  {
   "cell_type": "code",
   "execution_count": null,
   "metadata": {},
   "outputs": [],
   "source": []
  },
  {
   "cell_type": "code",
   "execution_count": null,
   "metadata": {},
   "outputs": [],
   "source": []
  },
  {
   "cell_type": "code",
   "execution_count": null,
   "metadata": {},
   "outputs": [],
   "source": []
  },
  {
   "cell_type": "code",
   "execution_count": null,
   "metadata": {},
   "outputs": [],
   "source": []
  }
 ],
 "metadata": {
  "kernelspec": {
   "display_name": "Python 3",
   "language": "python",
   "name": "python3"
  },
  "language_info": {
   "codemirror_mode": {
    "name": "ipython",
    "version": 3
   },
   "file_extension": ".py",
   "mimetype": "text/x-python",
   "name": "python",
   "nbconvert_exporter": "python",
   "pygments_lexer": "ipython3",
   "version": "3.7.4"
  },
  "toc": {
   "base_numbering": 1,
   "nav_menu": {},
   "number_sections": false,
   "sideBar": false,
   "skip_h1_title": false,
   "title_cell": "Table of Contents",
   "title_sidebar": "Contents",
   "toc_cell": false,
   "toc_position": {
    "height": "538.15px",
    "left": "91px",
    "top": "113.617px",
    "width": "272.233px"
   },
   "toc_section_display": false,
   "toc_window_display": false
  },
  "varInspector": {
   "cols": {
    "lenName": 16,
    "lenType": 16,
    "lenVar": 40
   },
   "kernels_config": {
    "python": {
     "delete_cmd_postfix": "",
     "delete_cmd_prefix": "del ",
     "library": "var_list.py",
     "varRefreshCmd": "print(var_dic_list())"
    },
    "r": {
     "delete_cmd_postfix": ") ",
     "delete_cmd_prefix": "rm(",
     "library": "var_list.r",
     "varRefreshCmd": "cat(var_dic_list()) "
    }
   },
   "types_to_exclude": [
    "module",
    "function",
    "builtin_function_or_method",
    "instance",
    "_Feature"
   ],
   "window_display": false
  }
 },
 "nbformat": 4,
 "nbformat_minor": 2
}
